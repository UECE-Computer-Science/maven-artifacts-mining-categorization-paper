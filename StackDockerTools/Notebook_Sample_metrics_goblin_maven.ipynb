{
  "cells": [
    {
      "cell_type": "markdown",
      "id": "6fc626a1-9a19-475e-82d7-5b4c4b61f571",
      "metadata": {
        "id": "6fc626a1-9a19-475e-82d7-5b4c4b61f571"
      },
      "source": [
        "# Samples query to `with_metrics_goblin_maven_30_08_24.dump`"
      ]
    },
    {
      "cell_type": "code",
      "execution_count": null,
      "id": "c7d69401-316b-4880-b735-9a3ac5b9284e",
      "metadata": {
        "id": "c7d69401-316b-4880-b735-9a3ac5b9284e"
      },
      "outputs": [],
      "source": [
        "import nbformat\n",
        "from nbformat import read, NO_CONVERT\n",
        "\n",
        "# Load connection notebook and methods\n",
        "notebook_filename = 'NotebookNeo4JConnection.ipynb'\n",
        "\n",
        "with open(notebook_filename) as f:\n",
        "    nb = read(f, NO_CONVERT)\n",
        "\n",
        "for cell in nb.cells:\n",
        "    if cell.cell_type == 'code':\n",
        "        exec(cell.source)"
      ]
    },
    {
      "cell_type": "markdown",
      "id": "7897f6ed-4f4d-4a91-be94-8b2d1ea8988c",
      "metadata": {
        "id": "7897f6ed-4f4d-4a91-be94-8b2d1ea8988c"
      },
      "source": [
        "### Example Neo4J Graph View"
      ]
    },
    {
      "cell_type": "code",
      "execution_count": null,
      "id": "61b39839-73e9-46e6-8a6f-fb1a771de93a",
      "metadata": {
        "colab": {
          "referenced_widgets": [
            "6e16793f834a4654963ad8888adb35cb"
          ]
        },
        "id": "61b39839-73e9-46e6-8a6f-fb1a771de93a",
        "outputId": "13858a9b-7429-443b-918a-af5edeba8e42"
      },
      "outputs": [
        {
          "data": {
            "application/vnd.jupyter.widget-view+json": {
              "model_id": "6e16793f834a4654963ad8888adb35cb",
              "version_major": 2,
              "version_minor": 0
            },
            "text/plain": [
              "GraphWidget(layout=Layout(height='800px', width='100%'))"
            ]
          },
          "metadata": {},
          "output_type": "display_data"
        }
      ],
      "source": [
        "query = \"\"\"\n",
        "MATCH (s)-[r]->(t) RETURN s, r, t LIMIT 50\n",
        "\"\"\"\n",
        "run_query_graph(query)"
      ]
    },
    {
      "cell_type": "code",
      "execution_count": null,
      "id": "b300ff03-33ef-441c-88df-1bb6359393e1",
      "metadata": {
        "colab": {
          "referenced_widgets": [
            "4c2fbb7de3b14849b0f226a60a6525d0"
          ]
        },
        "id": "b300ff03-33ef-441c-88df-1bb6359393e1",
        "outputId": "776e2723-5e1e-4488-8711-a9ffd747c491"
      },
      "outputs": [
        {
          "data": {
            "application/vnd.jupyter.widget-view+json": {
              "model_id": "4c2fbb7de3b14849b0f226a60a6525d0",
              "version_major": 2,
              "version_minor": 0
            },
            "text/plain": [
              "GraphWidget(layout=Layout(height='610px', width='100%'))"
            ]
          },
          "metadata": {},
          "output_type": "display_data"
        },
        {
          "data": {
            "text/html": [
              "<div>\n",
              "<style scoped>\n",
              "    .dataframe tbody tr th:only-of-type {\n",
              "        vertical-align: middle;\n",
              "    }\n",
              "\n",
              "    .dataframe tbody tr th {\n",
              "        vertical-align: top;\n",
              "    }\n",
              "\n",
              "    .dataframe thead th {\n",
              "        text-align: right;\n",
              "    }\n",
              "</style>\n",
              "<table border=\"1\" class=\"dataframe\">\n",
              "  <thead>\n",
              "    <tr style=\"text-align: right;\">\n",
              "      <th></th>\n",
              "      <th>n</th>\n",
              "      <th>r</th>\n",
              "      <th>m</th>\n",
              "    </tr>\n",
              "  </thead>\n",
              "  <tbody>\n",
              "    <tr>\n",
              "      <th>0</th>\n",
              "      <td>{'found': True, 'id': 'com.splendo.kaluga:aler...</td>\n",
              "      <td>({'found': True, 'id': 'com.splendo.kaluga:ale...</td>\n",
              "      <td>{'id': 'com.splendo.kaluga:alerts-androidlib:S...</td>\n",
              "    </tr>\n",
              "    <tr>\n",
              "      <th>1</th>\n",
              "      <td>{'found': True, 'id': 'com.splendo.kaluga:aler...</td>\n",
              "      <td>({'found': True, 'id': 'com.splendo.kaluga:ale...</td>\n",
              "      <td>{'id': 'com.splendo.kaluga:alerts-androidlib:1...</td>\n",
              "    </tr>\n",
              "    <tr>\n",
              "      <th>2</th>\n",
              "      <td>{'found': True, 'id': 'com.splendo.kaluga:aler...</td>\n",
              "      <td>({'found': True, 'id': 'com.splendo.kaluga:ale...</td>\n",
              "      <td>{'id': 'com.splendo.kaluga:alerts-androidlib:1...</td>\n",
              "    </tr>\n",
              "    <tr>\n",
              "      <th>3</th>\n",
              "      <td>{'found': True, 'id': 'com.splendo.kaluga:aler...</td>\n",
              "      <td>({'found': True, 'id': 'com.splendo.kaluga:ale...</td>\n",
              "      <td>{'id': 'com.splendo.kaluga:alerts-androidlib:1...</td>\n",
              "    </tr>\n",
              "    <tr>\n",
              "      <th>4</th>\n",
              "      <td>{'found': True, 'id': 'com.splendo.kaluga:aler...</td>\n",
              "      <td>({'found': True, 'id': 'com.splendo.kaluga:ale...</td>\n",
              "      <td>{'id': 'com.splendo.kaluga:alerts-androidlib:0...</td>\n",
              "    </tr>\n",
              "    <tr>\n",
              "      <th>5</th>\n",
              "      <td>{'found': True, 'id': 'com.splendo.kaluga:aler...</td>\n",
              "      <td>({'found': True, 'id': 'com.splendo.kaluga:ale...</td>\n",
              "      <td>{'id': 'com.splendo.kaluga:alerts-androidlib:0...</td>\n",
              "    </tr>\n",
              "    <tr>\n",
              "      <th>6</th>\n",
              "      <td>{'found': True, 'id': 'com.splendo.kaluga:aler...</td>\n",
              "      <td>({'found': True, 'id': 'com.splendo.kaluga:ale...</td>\n",
              "      <td>{'id': 'com.splendo.kaluga:alerts-androidlib:1...</td>\n",
              "    </tr>\n",
              "    <tr>\n",
              "      <th>7</th>\n",
              "      <td>{'found': True, 'id': 'com.splendo.kaluga:aler...</td>\n",
              "      <td>({'found': True, 'id': 'com.splendo.kaluga:ale...</td>\n",
              "      <td>{'id': 'com.splendo.kaluga:alerts-androidlib:1...</td>\n",
              "    </tr>\n",
              "    <tr>\n",
              "      <th>8</th>\n",
              "      <td>{'found': True, 'id': 'com.splendo.kaluga:aler...</td>\n",
              "      <td>({'found': True, 'id': 'com.splendo.kaluga:ale...</td>\n",
              "      <td>{'id': 'com.splendo.kaluga:alerts-androidlib:1...</td>\n",
              "    </tr>\n",
              "    <tr>\n",
              "      <th>9</th>\n",
              "      <td>{'found': True, 'id': 'com.splendo.kaluga:aler...</td>\n",
              "      <td>({'found': True, 'id': 'com.splendo.kaluga:ale...</td>\n",
              "      <td>{'id': 'com.splendo.kaluga:alerts-androidlib:1...</td>\n",
              "    </tr>\n",
              "  </tbody>\n",
              "</table>\n",
              "</div>"
            ],
            "text/plain": [
              "                                                   n  \\\n",
              "0  {'found': True, 'id': 'com.splendo.kaluga:aler...   \n",
              "1  {'found': True, 'id': 'com.splendo.kaluga:aler...   \n",
              "2  {'found': True, 'id': 'com.splendo.kaluga:aler...   \n",
              "3  {'found': True, 'id': 'com.splendo.kaluga:aler...   \n",
              "4  {'found': True, 'id': 'com.splendo.kaluga:aler...   \n",
              "5  {'found': True, 'id': 'com.splendo.kaluga:aler...   \n",
              "6  {'found': True, 'id': 'com.splendo.kaluga:aler...   \n",
              "7  {'found': True, 'id': 'com.splendo.kaluga:aler...   \n",
              "8  {'found': True, 'id': 'com.splendo.kaluga:aler...   \n",
              "9  {'found': True, 'id': 'com.splendo.kaluga:aler...   \n",
              "\n",
              "                                                   r  \\\n",
              "0  ({'found': True, 'id': 'com.splendo.kaluga:ale...   \n",
              "1  ({'found': True, 'id': 'com.splendo.kaluga:ale...   \n",
              "2  ({'found': True, 'id': 'com.splendo.kaluga:ale...   \n",
              "3  ({'found': True, 'id': 'com.splendo.kaluga:ale...   \n",
              "4  ({'found': True, 'id': 'com.splendo.kaluga:ale...   \n",
              "5  ({'found': True, 'id': 'com.splendo.kaluga:ale...   \n",
              "6  ({'found': True, 'id': 'com.splendo.kaluga:ale...   \n",
              "7  ({'found': True, 'id': 'com.splendo.kaluga:ale...   \n",
              "8  ({'found': True, 'id': 'com.splendo.kaluga:ale...   \n",
              "9  ({'found': True, 'id': 'com.splendo.kaluga:ale...   \n",
              "\n",
              "                                                   m  \n",
              "0  {'id': 'com.splendo.kaluga:alerts-androidlib:S...  \n",
              "1  {'id': 'com.splendo.kaluga:alerts-androidlib:1...  \n",
              "2  {'id': 'com.splendo.kaluga:alerts-androidlib:1...  \n",
              "3  {'id': 'com.splendo.kaluga:alerts-androidlib:1...  \n",
              "4  {'id': 'com.splendo.kaluga:alerts-androidlib:0...  \n",
              "5  {'id': 'com.splendo.kaluga:alerts-androidlib:0...  \n",
              "6  {'id': 'com.splendo.kaluga:alerts-androidlib:1...  \n",
              "7  {'id': 'com.splendo.kaluga:alerts-androidlib:1...  \n",
              "8  {'id': 'com.splendo.kaluga:alerts-androidlib:1...  \n",
              "9  {'id': 'com.splendo.kaluga:alerts-androidlib:1...  "
            ]
          },
          "execution_count": 30,
          "metadata": {},
          "output_type": "execute_result"
        }
      ],
      "source": [
        "query = \"\"\"\n",
        "MATCH (n)\n",
        "OPTIONAL MATCH (n)-[r]->(m)\n",
        "RETURN n, r, m\n",
        "LIMIT 10\n",
        "\"\"\"\n",
        "result_df = run_query_data_graph(query)\n",
        "result_df.head(10)"
      ]
    },
    {
      "cell_type": "code",
      "execution_count": null,
      "id": "578313b5-94ad-4834-8a40-62378bc367cd",
      "metadata": {
        "id": "578313b5-94ad-4834-8a40-62378bc367cd",
        "outputId": "38662b20-0918-4004-9eeb-fe26f64e3c26"
      },
      "outputs": [
        {
          "name": "stdout",
          "output_type": "stream",
          "text": [
            "                 Metric      Count\n",
            "0            totalNodes   44693573\n",
            "1            totalEdges  163695901\n",
            "2         totalReleases   14459139\n",
            "3        totalLibraries     658078\n",
            "4     totalDependencies  119660406\n",
            "5  totalVersioningEdges   14459139\n"
          ]
        }
      ],
      "source": [
        "import pandas as pd\n",
        "\n",
        "# Queries to get the data\n",
        "queries = {D\n",
        "    \"totalNodes\": \"MATCH (n) RETURN COUNT(n) AS totalNodes\",\n",
        "    \"totalEdges\": \"MATCH ()-[r]->() RETURN COUNT(r) AS totalEdges\",\n",
        "    \"totalReleases\": \"MATCH (r:Release) RETURN COUNT(r) AS totalReleases\",\n",
        "    \"totalLibraries\": \"MATCH (a:Artifact) RETURN COUNT(a) AS totalLibraries\",\n",
        "    \"totalDependencies\": \"MATCH ()-[r:dependency]->() RETURN COUNT(r) AS totalDependencies\",\n",
        "    \"totalVersioningEdges\": \"MATCH ()-[r:relationship_AR]->() RETURN COUNT(r) AS totalVersioningEdges\"\n",
        "}\n",
        "\n",
        "# Store results in a dictionary\n",
        "results = {}\n",
        "\n",
        "# Execute each query and store the result\n",
        "for key, query in queries.items():\n",
        "    result_df = run_query_data(query)\n",
        "    results[key] = result_df[key][0]  # Get the value from the first line\n",
        "\n",
        "# Create DataFrame from results\n",
        "summary_df = pd.DataFrame.from_dict(results, orient='index', columns=['Count']).reset_index()\n",
        "summary_df.rename(columns={'index': 'Metric'}, inplace=True)\n",
        "\n",
        "# Salve-me CSV\n",
        "summary_df.to_csv('graph_database_summary.csv', index=False)\n",
        "\n",
        "print(summary_df)"
      ]
    },
    {
      "cell_type": "markdown",
      "id": "6c777665-4735-4276-b2e3-31e37cc1701e",
      "metadata": {
        "id": "6c777665-4735-4276-b2e3-31e37cc1701e"
      },
      "source": [
        "#### Total nodes (libraries and releases)"
      ]
    },
    {
      "cell_type": "code",
      "execution_count": null,
      "id": "13685899-f1df-4464-8cb9-fc8c41abc1cb",
      "metadata": {
        "id": "13685899-f1df-4464-8cb9-fc8c41abc1cb",
        "outputId": "90fb55b8-082d-46a7-bdc4-6654ff05c63f"
      },
      "outputs": [
        {
          "name": "stdout",
          "output_type": "stream",
          "text": [
            "Tempo de resposta: 27.39 ms\n"
          ]
        },
        {
          "data": {
            "text/html": [
              "<div>\n",
              "<style scoped>\n",
              "    .dataframe tbody tr th:only-of-type {\n",
              "        vertical-align: middle;\n",
              "    }\n",
              "\n",
              "    .dataframe tbody tr th {\n",
              "        vertical-align: top;\n",
              "    }\n",
              "\n",
              "    .dataframe thead th {\n",
              "        text-align: right;\n",
              "    }\n",
              "</style>\n",
              "<table border=\"1\" class=\"dataframe\">\n",
              "  <thead>\n",
              "    <tr style=\"text-align: right;\">\n",
              "      <th></th>\n",
              "      <th>totalNodes</th>\n",
              "    </tr>\n",
              "  </thead>\n",
              "  <tbody>\n",
              "    <tr>\n",
              "      <th>0</th>\n",
              "      <td>44693573</td>\n",
              "    </tr>\n",
              "  </tbody>\n",
              "</table>\n",
              "</div>"
            ],
            "text/plain": [
              "   totalNodes\n",
              "0    44693573"
            ]
          },
          "execution_count": 31,
          "metadata": {},
          "output_type": "execute_result"
        }
      ],
      "source": [
        "query = \"\"\"\n",
        "MATCH (n)\n",
        "RETURN COUNT(n) AS totalNodes\n",
        "\"\"\"\n",
        "result_df = run_query_data(query)\n",
        "result_df.head()"
      ]
    },
    {
      "cell_type": "markdown",
      "id": "3bc54b82-ee71-40e3-9fa4-8f7b9b71c3b9",
      "metadata": {
        "id": "3bc54b82-ee71-40e3-9fa4-8f7b9b71c3b9"
      },
      "source": [
        "#### Total of edges"
      ]
    },
    {
      "cell_type": "code",
      "execution_count": null,
      "id": "20a50c7c-bbcc-4ca1-b721-ee59b7d8639b",
      "metadata": {
        "id": "20a50c7c-bbcc-4ca1-b721-ee59b7d8639b",
        "outputId": "d09644f2-70f2-4cfe-9f8c-f69d75ed42e7"
      },
      "outputs": [
        {
          "name": "stdout",
          "output_type": "stream",
          "text": [
            "Tempo de resposta: 28.83 ms\n"
          ]
        },
        {
          "data": {
            "text/html": [
              "<div>\n",
              "<style scoped>\n",
              "    .dataframe tbody tr th:only-of-type {\n",
              "        vertical-align: middle;\n",
              "    }\n",
              "\n",
              "    .dataframe tbody tr th {\n",
              "        vertical-align: top;\n",
              "    }\n",
              "\n",
              "    .dataframe thead th {\n",
              "        text-align: right;\n",
              "    }\n",
              "</style>\n",
              "<table border=\"1\" class=\"dataframe\">\n",
              "  <thead>\n",
              "    <tr style=\"text-align: right;\">\n",
              "      <th></th>\n",
              "      <th>totalEdges</th>\n",
              "    </tr>\n",
              "  </thead>\n",
              "  <tbody>\n",
              "    <tr>\n",
              "      <th>0</th>\n",
              "      <td>163695901</td>\n",
              "    </tr>\n",
              "  </tbody>\n",
              "</table>\n",
              "</div>"
            ],
            "text/plain": [
              "   totalEdges\n",
              "0   163695901"
            ]
          },
          "execution_count": 32,
          "metadata": {},
          "output_type": "execute_result"
        }
      ],
      "source": [
        "query = \"\"\"\n",
        "MATCH ()-[r]->()\n",
        "RETURN COUNT(r) AS totalEdges\n",
        "\"\"\"\n",
        "result_df = run_query_data(query)\n",
        "result_df.head()"
      ]
    },
    {
      "cell_type": "markdown",
      "id": "5fbb5e6a-5851-49e1-bf7b-448e93517de9",
      "metadata": {
        "id": "5fbb5e6a-5851-49e1-bf7b-448e93517de9"
      },
      "source": [
        "#### Total artifact nodes (as libraries)"
      ]
    },
    {
      "cell_type": "code",
      "execution_count": null,
      "id": "a59a36db-eaa6-46c2-9432-e868bab9cab6",
      "metadata": {
        "id": "a59a36db-eaa6-46c2-9432-e868bab9cab6",
        "outputId": "e0e7bc80-88fb-4703-9c0a-4a087007a447"
      },
      "outputs": [
        {
          "name": "stdout",
          "output_type": "stream",
          "text": [
            "Tempo de resposta: 22.98 ms\n"
          ]
        },
        {
          "data": {
            "text/html": [
              "<div>\n",
              "<style scoped>\n",
              "    .dataframe tbody tr th:only-of-type {\n",
              "        vertical-align: middle;\n",
              "    }\n",
              "\n",
              "    .dataframe tbody tr th {\n",
              "        vertical-align: top;\n",
              "    }\n",
              "\n",
              "    .dataframe thead th {\n",
              "        text-align: right;\n",
              "    }\n",
              "</style>\n",
              "<table border=\"1\" class=\"dataframe\">\n",
              "  <thead>\n",
              "    <tr style=\"text-align: right;\">\n",
              "      <th></th>\n",
              "      <th>totalLibraries</th>\n",
              "    </tr>\n",
              "  </thead>\n",
              "  <tbody>\n",
              "    <tr>\n",
              "      <th>0</th>\n",
              "      <td>658078</td>\n",
              "    </tr>\n",
              "  </tbody>\n",
              "</table>\n",
              "</div>"
            ],
            "text/plain": [
              "   totalLibraries\n",
              "0          658078"
            ]
          },
          "execution_count": 33,
          "metadata": {},
          "output_type": "execute_result"
        }
      ],
      "source": [
        "query = \"\"\"\n",
        "MATCH (a:Artifact)\n",
        "RETURN COUNT(a) AS totalLibraries\n",
        "\"\"\"\n",
        "result_df = run_query_data(query)\n",
        "result_df.head()"
      ]
    },
    {
      "cell_type": "markdown",
      "id": "c3b85329-3abe-4139-a431-783e982c3af0",
      "metadata": {
        "id": "c3b85329-3abe-4139-a431-783e982c3af0"
      },
      "source": [
        "#### Total nodes of type release (releases)"
      ]
    },
    {
      "cell_type": "code",
      "execution_count": null,
      "id": "710cf8f4-9657-49a0-a78c-818729229204",
      "metadata": {
        "id": "710cf8f4-9657-49a0-a78c-818729229204",
        "outputId": "6db6eef4-5685-4b56-f600-2f4b6a1e2c08"
      },
      "outputs": [
        {
          "name": "stdout",
          "output_type": "stream",
          "text": [
            "Tempo de resposta: 22.45 ms\n"
          ]
        },
        {
          "data": {
            "text/html": [
              "<div>\n",
              "<style scoped>\n",
              "    .dataframe tbody tr th:only-of-type {\n",
              "        vertical-align: middle;\n",
              "    }\n",
              "\n",
              "    .dataframe tbody tr th {\n",
              "        vertical-align: top;\n",
              "    }\n",
              "\n",
              "    .dataframe thead th {\n",
              "        text-align: right;\n",
              "    }\n",
              "</style>\n",
              "<table border=\"1\" class=\"dataframe\">\n",
              "  <thead>\n",
              "    <tr style=\"text-align: right;\">\n",
              "      <th></th>\n",
              "      <th>totalReleases</th>\n",
              "    </tr>\n",
              "  </thead>\n",
              "  <tbody>\n",
              "    <tr>\n",
              "      <th>0</th>\n",
              "      <td>14459139</td>\n",
              "    </tr>\n",
              "  </tbody>\n",
              "</table>\n",
              "</div>"
            ],
            "text/plain": [
              "   totalReleases\n",
              "0       14459139"
            ]
          },
          "execution_count": 34,
          "metadata": {},
          "output_type": "execute_result"
        }
      ],
      "source": [
        "query = \"\"\"\n",
        "MATCH (r:Release)\n",
        "RETURN COUNT(r) AS totalReleases\n",
        "\"\"\"\n",
        "result_df = run_query_data(query)\n",
        "result_df.head()"
      ]
    },
    {
      "cell_type": "markdown",
      "id": "e1c1cd85-b41c-49d0-883d-a141b839c6bb",
      "metadata": {
        "id": "e1c1cd85-b41c-49d0-883d-a141b839c6bb"
      },
      "source": [
        "#### Cannot detect language. Please choose it manually."
      ]
    },
    {
      "cell_type": "code",
      "execution_count": null,
      "id": "080d5b3e-7e35-41f5-b3a4-17934ccd321f",
      "metadata": {
        "id": "080d5b3e-7e35-41f5-b3a4-17934ccd321f",
        "outputId": "e119d885-c59a-4ae3-c158-76d74b1f4155"
      },
      "outputs": [
        {
          "name": "stdout",
          "output_type": "stream",
          "text": [
            "Tempo de resposta: 14.44 ms\n"
          ]
        },
        {
          "data": {
            "text/html": [
              "<div>\n",
              "<style scoped>\n",
              "    .dataframe tbody tr th:only-of-type {\n",
              "        vertical-align: middle;\n",
              "    }\n",
              "\n",
              "    .dataframe tbody tr th {\n",
              "        vertical-align: top;\n",
              "    }\n",
              "\n",
              "    .dataframe thead th {\n",
              "        text-align: right;\n",
              "    }\n",
              "</style>\n",
              "<table border=\"1\" class=\"dataframe\">\n",
              "  <thead>\n",
              "    <tr style=\"text-align: right;\">\n",
              "      <th></th>\n",
              "      <th>totalEdges</th>\n",
              "    </tr>\n",
              "  </thead>\n",
              "  <tbody>\n",
              "    <tr>\n",
              "      <th>0</th>\n",
              "      <td>163695901</td>\n",
              "    </tr>\n",
              "  </tbody>\n",
              "</table>\n",
              "</div>"
            ],
            "text/plain": [
              "   totalEdges\n",
              "0   163695901"
            ]
          },
          "execution_count": 35,
          "metadata": {},
          "output_type": "execute_result"
        }
      ],
      "source": [
        "query = \"\"\"\n",
        "MATCH ()-[r]->()\n",
        "RETURN COUNT(r) AS totalEdges;\n",
        "\"\"\"\n",
        "result_df = run_query_data(query)\n",
        "result_df.head()"
      ]
    },
    {
      "cell_type": "markdown",
      "id": "dc827a50-3541-4b34-a475-7394bee02809",
      "metadata": {
        "id": "dc827a50-3541-4b34-a475-7394bee02809"
      },
      "source": [
        "#### Total dependencies"
      ]
    },
    {
      "cell_type": "code",
      "execution_count": null,
      "id": "e033ad97-cbdc-41ec-ad5e-6e5e2e0901cd",
      "metadata": {
        "id": "e033ad97-cbdc-41ec-ad5e-6e5e2e0901cd",
        "outputId": "d2c50664-9560-4f0e-9ccf-56b69b401bf5"
      },
      "outputs": [
        {
          "name": "stdout",
          "output_type": "stream",
          "text": [
            "Tempo de resposta: 29.25 ms\n"
          ]
        },
        {
          "data": {
            "text/html": [
              "<div>\n",
              "<style scoped>\n",
              "    .dataframe tbody tr th:only-of-type {\n",
              "        vertical-align: middle;\n",
              "    }\n",
              "\n",
              "    .dataframe tbody tr th {\n",
              "        vertical-align: top;\n",
              "    }\n",
              "\n",
              "    .dataframe thead th {\n",
              "        text-align: right;\n",
              "    }\n",
              "</style>\n",
              "<table border=\"1\" class=\"dataframe\">\n",
              "  <thead>\n",
              "    <tr style=\"text-align: right;\">\n",
              "      <th></th>\n",
              "      <th>totalDependencies</th>\n",
              "    </tr>\n",
              "  </thead>\n",
              "  <tbody>\n",
              "    <tr>\n",
              "      <th>0</th>\n",
              "      <td>119660406</td>\n",
              "    </tr>\n",
              "  </tbody>\n",
              "</table>\n",
              "</div>"
            ],
            "text/plain": [
              "   totalDependencies\n",
              "0          119660406"
            ]
          },
          "execution_count": 36,
          "metadata": {},
          "output_type": "execute_result"
        }
      ],
      "source": [
        "query = \"\"\"\n",
        "MATCH ()-[r:dependency]->()\n",
        "RETURN COUNT(r) AS totalDependencies\n",
        "\"\"\"\n",
        "result_df = run_query_data(query)\n",
        "result_df.head()"
      ]
    },
    {
      "cell_type": "markdown",
      "id": "b0ef2b72-4644-48a5-8b1a-ec95c8725c59",
      "metadata": {
        "id": "b0ef2b72-4644-48a5-8b1a-ec95c8725c59"
      },
      "source": [
        "#### Total versionings (versioning edges)"
      ]
    },
    {
      "cell_type": "code",
      "execution_count": null,
      "id": "dedd4cf2-3bc8-415a-952c-7da0627615a2",
      "metadata": {
        "id": "dedd4cf2-3bc8-415a-952c-7da0627615a2",
        "outputId": "8fce375b-0099-4678-93cf-f695aa7b8d43"
      },
      "outputs": [
        {
          "name": "stdout",
          "output_type": "stream",
          "text": [
            "Tempo de resposta: 25.16 ms\n"
          ]
        },
        {
          "data": {
            "text/html": [
              "<div>\n",
              "<style scoped>\n",
              "    .dataframe tbody tr th:only-of-type {\n",
              "        vertical-align: middle;\n",
              "    }\n",
              "\n",
              "    .dataframe tbody tr th {\n",
              "        vertical-align: top;\n",
              "    }\n",
              "\n",
              "    .dataframe thead th {\n",
              "        text-align: right;\n",
              "    }\n",
              "</style>\n",
              "<table border=\"1\" class=\"dataframe\">\n",
              "  <thead>\n",
              "    <tr style=\"text-align: right;\">\n",
              "      <th></th>\n",
              "      <th>totalVersioningEdges</th>\n",
              "    </tr>\n",
              "  </thead>\n",
              "  <tbody>\n",
              "    <tr>\n",
              "      <th>0</th>\n",
              "      <td>14459139</td>\n",
              "    </tr>\n",
              "  </tbody>\n",
              "</table>\n",
              "</div>"
            ],
            "text/plain": [
              "   totalVersioningEdges\n",
              "0              14459139"
            ]
          },
          "execution_count": 37,
          "metadata": {},
          "output_type": "execute_result"
        }
      ],
      "source": [
        "query = \"\"\"\n",
        "MATCH ()-[r:relationship_AR]->()\n",
        "RETURN COUNT(r) AS totalVersioningEdges\n",
        "\"\"\"\n",
        "result_df = run_query_data(query)\n",
        "result_df.head()"
      ]
    },
    {
      "cell_type": "markdown",
      "id": "5e30e25e-3337-4b8c-a93e-54d66d969468",
      "metadata": {
        "id": "5e30e25e-3337-4b8c-a93e-54d66d969468"
      },
      "source": [
        "#### List all labels"
      ]
    },
    {
      "cell_type": "code",
      "execution_count": null,
      "id": "9032b2cb-f7d9-4837-8287-0080dd7af889",
      "metadata": {
        "id": "9032b2cb-f7d9-4837-8287-0080dd7af889",
        "outputId": "642a2824-c8fa-4268-9cd5-58cb3c108481"
      },
      "outputs": [
        {
          "data": {
            "text/html": [
              "<div>\n",
              "<style scoped>\n",
              "    .dataframe tbody tr th:only-of-type {\n",
              "        vertical-align: middle;\n",
              "    }\n",
              "\n",
              "    .dataframe tbody tr th {\n",
              "        vertical-align: top;\n",
              "    }\n",
              "\n",
              "    .dataframe thead th {\n",
              "        text-align: right;\n",
              "    }\n",
              "</style>\n",
              "<table border=\"1\" class=\"dataframe\">\n",
              "  <thead>\n",
              "    <tr style=\"text-align: right;\">\n",
              "      <th></th>\n",
              "      <th>label</th>\n",
              "    </tr>\n",
              "  </thead>\n",
              "  <tbody>\n",
              "    <tr>\n",
              "      <th>0</th>\n",
              "      <td>Artifact</td>\n",
              "    </tr>\n",
              "    <tr>\n",
              "      <th>1</th>\n",
              "      <td>Release</td>\n",
              "    </tr>\n",
              "    <tr>\n",
              "      <th>2</th>\n",
              "      <td>AddedValue</td>\n",
              "    </tr>\n",
              "  </tbody>\n",
              "</table>\n",
              "</div>"
            ],
            "text/plain": [
              "        label\n",
              "0    Artifact\n",
              "1     Release\n",
              "2  AddedValue"
            ]
          },
          "execution_count": 3,
          "metadata": {},
          "output_type": "execute_result"
        }
      ],
      "source": [
        "query = \"\"\"\n",
        "CALL db.labels()\n",
        "YIELD label\n",
        "RETURN label\n",
        "\"\"\"\n",
        "result_df = run_query_data(query)\n",
        "result_df.head(10)"
      ]
    },
    {
      "cell_type": "markdown",
      "id": "bfa155bf-2156-42cf-bfb7-2a50030510af",
      "metadata": {
        "id": "bfa155bf-2156-42cf-bfb7-2a50030510af"
      },
      "source": [
        "#### Count number of nodes per label"
      ]
    },
    {
      "cell_type": "code",
      "execution_count": null,
      "id": "5ba10d4a-669a-4262-b29d-59d8f4cd0bc4",
      "metadata": {
        "id": "5ba10d4a-669a-4262-b29d-59d8f4cd0bc4",
        "outputId": "242a1ba2-f704-4c4f-d5c5-29d419fe47fa"
      },
      "outputs": [
        {
          "data": {
            "text/html": [
              "<div>\n",
              "<style scoped>\n",
              "    .dataframe tbody tr th:only-of-type {\n",
              "        vertical-align: middle;\n",
              "    }\n",
              "\n",
              "    .dataframe tbody tr th {\n",
              "        vertical-align: top;\n",
              "    }\n",
              "\n",
              "    .dataframe thead th {\n",
              "        text-align: right;\n",
              "    }\n",
              "</style>\n",
              "<table border=\"1\" class=\"dataframe\">\n",
              "  <thead>\n",
              "    <tr style=\"text-align: right;\">\n",
              "      <th></th>\n",
              "      <th>labels</th>\n",
              "      <th>total</th>\n",
              "    </tr>\n",
              "  </thead>\n",
              "  <tbody>\n",
              "    <tr>\n",
              "      <th>0</th>\n",
              "      <td>[Artifact]</td>\n",
              "      <td>658078</td>\n",
              "    </tr>\n",
              "    <tr>\n",
              "      <th>1</th>\n",
              "      <td>[Release]</td>\n",
              "      <td>14459139</td>\n",
              "    </tr>\n",
              "    <tr>\n",
              "      <th>2</th>\n",
              "      <td>[AddedValue]</td>\n",
              "      <td>29576356</td>\n",
              "    </tr>\n",
              "  </tbody>\n",
              "</table>\n",
              "</div>"
            ],
            "text/plain": [
              "         labels     total\n",
              "0    [Artifact]    658078\n",
              "1     [Release]  14459139\n",
              "2  [AddedValue]  29576356"
            ]
          },
          "execution_count": 5,
          "metadata": {},
          "output_type": "execute_result"
        }
      ],
      "source": [
        "query = \"\"\"\n",
        "MATCH (n)\n",
        "RETURN labels(n) AS labels, COUNT(n) AS total\n",
        "\"\"\"\n",
        "result_df = run_query_data(query)\n",
        "result_df"
      ]
    },
    {
      "cell_type": "markdown",
      "id": "31351f73-7d52-49e7-bb90-731cb977fc1b",
      "metadata": {
        "id": "31351f73-7d52-49e7-bb90-731cb977fc1b"
      },
      "source": [
        "#### List the types of relationships"
      ]
    },
    {
      "cell_type": "code",
      "execution_count": null,
      "id": "ded0b887-f257-495d-ab94-0b5201935acb",
      "metadata": {
        "id": "ded0b887-f257-495d-ab94-0b5201935acb",
        "outputId": "882318cb-b9e0-40b7-e90b-e357bd583d52"
      },
      "outputs": [
        {
          "data": {
            "text/html": [
              "<div>\n",
              "<style scoped>\n",
              "    .dataframe tbody tr th:only-of-type {\n",
              "        vertical-align: middle;\n",
              "    }\n",
              "\n",
              "    .dataframe tbody tr th {\n",
              "        vertical-align: top;\n",
              "    }\n",
              "\n",
              "    .dataframe thead th {\n",
              "        text-align: right;\n",
              "    }\n",
              "</style>\n",
              "<table border=\"1\" class=\"dataframe\">\n",
              "  <thead>\n",
              "    <tr style=\"text-align: right;\">\n",
              "      <th></th>\n",
              "      <th>relationshipType</th>\n",
              "    </tr>\n",
              "  </thead>\n",
              "  <tbody>\n",
              "    <tr>\n",
              "      <th>0</th>\n",
              "      <td>relationship_AR</td>\n",
              "    </tr>\n",
              "    <tr>\n",
              "      <th>1</th>\n",
              "      <td>dependency</td>\n",
              "    </tr>\n",
              "    <tr>\n",
              "      <th>2</th>\n",
              "      <td>addedValues</td>\n",
              "    </tr>\n",
              "  </tbody>\n",
              "</table>\n",
              "</div>"
            ],
            "text/plain": [
              "  relationshipType\n",
              "0  relationship_AR\n",
              "1       dependency\n",
              "2      addedValues"
            ]
          },
          "execution_count": 13,
          "metadata": {},
          "output_type": "execute_result"
        }
      ],
      "source": [
        "query = \"\"\"\n",
        "CALL db.relationshipTypes()\n",
        "YIELD relationshipType\n",
        "RETURN relationshipType\n",
        "\"\"\"\n",
        "result_df = run_query_data(query)\n",
        "result_df.head()"
      ]
    },
    {
      "cell_type": "markdown",
      "id": "85950963-1d6d-4ef5-9271-41b43e672e8a",
      "metadata": {
        "id": "85950963-1d6d-4ef5-9271-41b43e672e8a"
      },
      "source": [
        "#### Cannot detect language. Please choose it manually."
      ]
    },
    {
      "cell_type": "code",
      "execution_count": null,
      "id": "df111261-b96d-4c69-8b02-e45bde8c15c2",
      "metadata": {
        "id": "df111261-b96d-4c69-8b02-e45bde8c15c2",
        "outputId": "38b8ad72-4c52-438f-8433-569ec02f9862"
      },
      "outputs": [
        {
          "data": {
            "text/html": [
              "<div>\n",
              "<style scoped>\n",
              "    .dataframe tbody tr th:only-of-type {\n",
              "        vertical-align: middle;\n",
              "    }\n",
              "\n",
              "    .dataframe tbody tr th {\n",
              "        vertical-align: top;\n",
              "    }\n",
              "\n",
              "    .dataframe thead th {\n",
              "        text-align: right;\n",
              "    }\n",
              "</style>\n",
              "<table border=\"1\" class=\"dataframe\">\n",
              "  <thead>\n",
              "    <tr style=\"text-align: right;\">\n",
              "      <th></th>\n",
              "      <th>a</th>\n",
              "    </tr>\n",
              "  </thead>\n",
              "  <tbody>\n",
              "    <tr>\n",
              "      <th>0</th>\n",
              "      <td>{'found': True, 'id': 'com.splendo.kaluga:aler...</td>\n",
              "    </tr>\n",
              "    <tr>\n",
              "      <th>1</th>\n",
              "      <td>{'found': True, 'id': 'org.wso2.carbon.identit...</td>\n",
              "    </tr>\n",
              "    <tr>\n",
              "      <th>2</th>\n",
              "      <td>{'found': True, 'id': 'org.apache.camel.quarku...</td>\n",
              "    </tr>\n",
              "    <tr>\n",
              "      <th>3</th>\n",
              "      <td>{'found': True, 'id': 'io.projectreactor:react...</td>\n",
              "    </tr>\n",
              "    <tr>\n",
              "      <th>4</th>\n",
              "      <td>{'found': True, 'id': 'com.lihaoyi:ammonite-sh...</td>\n",
              "    </tr>\n",
              "    <tr>\n",
              "      <th>5</th>\n",
              "      <td>{'found': True, 'id': 'com.codacy:codacy-engin...</td>\n",
              "    </tr>\n",
              "    <tr>\n",
              "      <th>6</th>\n",
              "      <td>{'found': True, 'id': 'org.grails:grails-datas...</td>\n",
              "    </tr>\n",
              "    <tr>\n",
              "      <th>7</th>\n",
              "      <td>{'found': True, 'id': 'org.bedework.deploy:bw-...</td>\n",
              "    </tr>\n",
              "    <tr>\n",
              "      <th>8</th>\n",
              "      <td>{'found': True, 'id': 'org.ops4j.pax.exam.samp...</td>\n",
              "    </tr>\n",
              "    <tr>\n",
              "      <th>9</th>\n",
              "      <td>{'found': True, 'id': 'org.webjars.npm:mocha-j...</td>\n",
              "    </tr>\n",
              "  </tbody>\n",
              "</table>\n",
              "</div>"
            ],
            "text/plain": [
              "                                                   a\n",
              "0  {'found': True, 'id': 'com.splendo.kaluga:aler...\n",
              "1  {'found': True, 'id': 'org.wso2.carbon.identit...\n",
              "2  {'found': True, 'id': 'org.apache.camel.quarku...\n",
              "3  {'found': True, 'id': 'io.projectreactor:react...\n",
              "4  {'found': True, 'id': 'com.lihaoyi:ammonite-sh...\n",
              "5  {'found': True, 'id': 'com.codacy:codacy-engin...\n",
              "6  {'found': True, 'id': 'org.grails:grails-datas...\n",
              "7  {'found': True, 'id': 'org.bedework.deploy:bw-...\n",
              "8  {'found': True, 'id': 'org.ops4j.pax.exam.samp...\n",
              "9  {'found': True, 'id': 'org.webjars.npm:mocha-j..."
            ]
          },
          "execution_count": 14,
          "metadata": {},
          "output_type": "execute_result"
        }
      ],
      "source": [
        "query = \"\"\"\n",
        "MATCH (a:Artifact)\n",
        "RETURN a\n",
        "LIMIT 1000\n",
        "\"\"\"\n",
        "result_df = run_query_data(query)\n",
        "result_df.head(10)"
      ]
    },
    {
      "cell_type": "markdown",
      "id": "e0ed8cdf-28d7-467c-a644-6390e026bb1f",
      "metadata": {
        "id": "e0ed8cdf-28d7-467c-a644-6390e026bb1f"
      },
      "source": [
        "#### List artifact names"
      ]
    },
    {
      "cell_type": "code",
      "execution_count": null,
      "id": "95aae607-64f8-45d7-a21f-fcf0b54f8a2d",
      "metadata": {
        "id": "95aae607-64f8-45d7-a21f-fcf0b54f8a2d",
        "outputId": "a0976de8-d4bb-4b69-f38c-4c5eee56bce1"
      },
      "outputs": [
        {
          "data": {
            "text/html": [
              "<div>\n",
              "<style scoped>\n",
              "    .dataframe tbody tr th:only-of-type {\n",
              "        vertical-align: middle;\n",
              "    }\n",
              "\n",
              "    .dataframe tbody tr th {\n",
              "        vertical-align: top;\n",
              "    }\n",
              "\n",
              "    .dataframe thead th {\n",
              "        text-align: right;\n",
              "    }\n",
              "</style>\n",
              "<table border=\"1\" class=\"dataframe\">\n",
              "  <thead>\n",
              "    <tr style=\"text-align: right;\">\n",
              "      <th></th>\n",
              "      <th>artifactName</th>\n",
              "    </tr>\n",
              "  </thead>\n",
              "  <tbody>\n",
              "    <tr>\n",
              "      <th>0</th>\n",
              "      <td>com.splendo.kaluga:alerts-androidlib</td>\n",
              "    </tr>\n",
              "    <tr>\n",
              "      <th>1</th>\n",
              "      <td>org.wso2.carbon.identity.framework:org.wso2.ca...</td>\n",
              "    </tr>\n",
              "    <tr>\n",
              "      <th>2</th>\n",
              "      <td>org.apache.camel.quarkus:camel-quarkus-kotlin-...</td>\n",
              "    </tr>\n",
              "    <tr>\n",
              "      <th>3</th>\n",
              "      <td>io.projectreactor:reactor-scala-extensions_2.11</td>\n",
              "    </tr>\n",
              "    <tr>\n",
              "      <th>4</th>\n",
              "      <td>com.lihaoyi:ammonite-shell_2.10.5</td>\n",
              "    </tr>\n",
              "    <tr>\n",
              "      <th>5</th>\n",
              "      <td>com.codacy:codacy-engine-scala-seed_2.12</td>\n",
              "    </tr>\n",
              "    <tr>\n",
              "      <th>6</th>\n",
              "      <td>org.grails:grails-datastore-simple</td>\n",
              "    </tr>\n",
              "    <tr>\n",
              "      <th>7</th>\n",
              "      <td>org.bedework.deploy:bw-wfmodules-calendar-engi...</td>\n",
              "    </tr>\n",
              "    <tr>\n",
              "      <th>8</th>\n",
              "      <td>org.ops4j.pax.exam.samples:pax-exam-sample7-se...</td>\n",
              "    </tr>\n",
              "    <tr>\n",
              "      <th>9</th>\n",
              "      <td>org.webjars.npm:mocha-jsdom</td>\n",
              "    </tr>\n",
              "  </tbody>\n",
              "</table>\n",
              "</div>"
            ],
            "text/plain": [
              "                                        artifactName\n",
              "0               com.splendo.kaluga:alerts-androidlib\n",
              "1  org.wso2.carbon.identity.framework:org.wso2.ca...\n",
              "2  org.apache.camel.quarkus:camel-quarkus-kotlin-...\n",
              "3    io.projectreactor:reactor-scala-extensions_2.11\n",
              "4                  com.lihaoyi:ammonite-shell_2.10.5\n",
              "5           com.codacy:codacy-engine-scala-seed_2.12\n",
              "6                 org.grails:grails-datastore-simple\n",
              "7  org.bedework.deploy:bw-wfmodules-calendar-engi...\n",
              "8  org.ops4j.pax.exam.samples:pax-exam-sample7-se...\n",
              "9                        org.webjars.npm:mocha-jsdom"
            ]
          },
          "execution_count": 15,
          "metadata": {},
          "output_type": "execute_result"
        }
      ],
      "source": [
        "query = \"\"\"\n",
        "MATCH (a:Artifact)\n",
        "RETURN a.id AS artifactName\n",
        "LIMIT 1000\n",
        "\"\"\"\n",
        "result = run_query_data(query)\n",
        "result [:10]"
      ]
    },
    {
      "cell_type": "markdown",
      "id": "18c4e97c-bbe4-4a9f-9809-2c8fe9704955",
      "metadata": {
        "id": "18c4e97c-bbe4-4a9f-9809-2c8fe9704955"
      },
      "source": [
        "#### Check structure of artifact nodes"
      ]
    },
    {
      "cell_type": "code",
      "execution_count": null,
      "id": "9a11b369-c64a-4893-925e-8c399deeaa86",
      "metadata": {
        "id": "9a11b369-c64a-4893-925e-8c399deeaa86",
        "outputId": "cc896961-a285-4792-9b35-1a94b6f2deeb"
      },
      "outputs": [
        {
          "data": {
            "text/html": [
              "<div>\n",
              "<style scoped>\n",
              "    .dataframe tbody tr th:only-of-type {\n",
              "        vertical-align: middle;\n",
              "    }\n",
              "\n",
              "    .dataframe tbody tr th {\n",
              "        vertical-align: top;\n",
              "    }\n",
              "\n",
              "    .dataframe thead th {\n",
              "        text-align: right;\n",
              "    }\n",
              "</style>\n",
              "<table border=\"1\" class=\"dataframe\">\n",
              "  <thead>\n",
              "    <tr style=\"text-align: right;\">\n",
              "      <th></th>\n",
              "      <th>a</th>\n",
              "    </tr>\n",
              "  </thead>\n",
              "  <tbody>\n",
              "    <tr>\n",
              "      <th>0</th>\n",
              "      <td>{'found': True, 'id': 'com.splendo.kaluga:aler...</td>\n",
              "    </tr>\n",
              "    <tr>\n",
              "      <th>1</th>\n",
              "      <td>{'found': True, 'id': 'org.wso2.carbon.identit...</td>\n",
              "    </tr>\n",
              "    <tr>\n",
              "      <th>2</th>\n",
              "      <td>{'found': True, 'id': 'org.apache.camel.quarku...</td>\n",
              "    </tr>\n",
              "    <tr>\n",
              "      <th>3</th>\n",
              "      <td>{'found': True, 'id': 'io.projectreactor:react...</td>\n",
              "    </tr>\n",
              "    <tr>\n",
              "      <th>4</th>\n",
              "      <td>{'found': True, 'id': 'com.lihaoyi:ammonite-sh...</td>\n",
              "    </tr>\n",
              "    <tr>\n",
              "      <th>5</th>\n",
              "      <td>{'found': True, 'id': 'com.codacy:codacy-engin...</td>\n",
              "    </tr>\n",
              "    <tr>\n",
              "      <th>6</th>\n",
              "      <td>{'found': True, 'id': 'org.grails:grails-datas...</td>\n",
              "    </tr>\n",
              "    <tr>\n",
              "      <th>7</th>\n",
              "      <td>{'found': True, 'id': 'org.bedework.deploy:bw-...</td>\n",
              "    </tr>\n",
              "    <tr>\n",
              "      <th>8</th>\n",
              "      <td>{'found': True, 'id': 'org.ops4j.pax.exam.samp...</td>\n",
              "    </tr>\n",
              "    <tr>\n",
              "      <th>9</th>\n",
              "      <td>{'found': True, 'id': 'org.webjars.npm:mocha-j...</td>\n",
              "    </tr>\n",
              "  </tbody>\n",
              "</table>\n",
              "</div>"
            ],
            "text/plain": [
              "                                                   a\n",
              "0  {'found': True, 'id': 'com.splendo.kaluga:aler...\n",
              "1  {'found': True, 'id': 'org.wso2.carbon.identit...\n",
              "2  {'found': True, 'id': 'org.apache.camel.quarku...\n",
              "3  {'found': True, 'id': 'io.projectreactor:react...\n",
              "4  {'found': True, 'id': 'com.lihaoyi:ammonite-sh...\n",
              "5  {'found': True, 'id': 'com.codacy:codacy-engin...\n",
              "6  {'found': True, 'id': 'org.grails:grails-datas...\n",
              "7  {'found': True, 'id': 'org.bedework.deploy:bw-...\n",
              "8  {'found': True, 'id': 'org.ops4j.pax.exam.samp...\n",
              "9  {'found': True, 'id': 'org.webjars.npm:mocha-j..."
            ]
          },
          "execution_count": 16,
          "metadata": {},
          "output_type": "execute_result"
        }
      ],
      "source": [
        "query = \"\"\"\n",
        "MATCH (a:Artifact)\n",
        "RETURN a\n",
        "LIMIT 1000\n",
        "\"\"\"\n",
        "result = run_query_data(query)\n",
        "result [:10]"
      ]
    },
    {
      "cell_type": "code",
      "execution_count": null,
      "id": "31d1a9ad-0c21-48fc-abad-190bc21cb462",
      "metadata": {
        "colab": {
          "referenced_widgets": [
            "b53e7f00913b4d57bb7fda6a5860ad71"
          ]
        },
        "id": "31d1a9ad-0c21-48fc-abad-190bc21cb462",
        "outputId": "34454bec-c428-488c-8a19-f3b332443651"
      },
      "outputs": [
        {
          "data": {
            "application/vnd.jupyter.widget-view+json": {
              "model_id": "b53e7f00913b4d57bb7fda6a5860ad71",
              "version_major": 2,
              "version_minor": 0
            },
            "text/plain": [
              "GraphWidget(layout=Layout(height='670px', width='100%'))"
            ]
          },
          "metadata": {},
          "output_type": "display_data"
        },
        {
          "data": {
            "text/html": [
              "<div>\n",
              "<style scoped>\n",
              "    .dataframe tbody tr th:only-of-type {\n",
              "        vertical-align: middle;\n",
              "    }\n",
              "\n",
              "    .dataframe tbody tr th {\n",
              "        vertical-align: top;\n",
              "    }\n",
              "\n",
              "    .dataframe thead th {\n",
              "        text-align: right;\n",
              "    }\n",
              "</style>\n",
              "<table border=\"1\" class=\"dataframe\">\n",
              "  <thead>\n",
              "    <tr style=\"text-align: right;\">\n",
              "      <th></th>\n",
              "      <th>p</th>\n",
              "    </tr>\n",
              "  </thead>\n",
              "  <tbody>\n",
              "    <tr>\n",
              "      <th>0</th>\n",
              "      <td>[{'id': 'org.wso2.carbon.identity.framework:or...</td>\n",
              "    </tr>\n",
              "    <tr>\n",
              "      <th>1</th>\n",
              "      <td>[{'id': 'org.wso2.carbon.identity.framework:or...</td>\n",
              "    </tr>\n",
              "    <tr>\n",
              "      <th>2</th>\n",
              "      <td>[{'id': 'org.wso2.carbon.identity.framework:or...</td>\n",
              "    </tr>\n",
              "    <tr>\n",
              "      <th>3</th>\n",
              "      <td>[{'id': 'org.wso2.carbon.identity.framework:or...</td>\n",
              "    </tr>\n",
              "    <tr>\n",
              "      <th>4</th>\n",
              "      <td>[{'id': 'org.wso2.carbon.identity.framework:or...</td>\n",
              "    </tr>\n",
              "    <tr>\n",
              "      <th>5</th>\n",
              "      <td>[{'id': 'org.wso2.carbon.identity.framework:or...</td>\n",
              "    </tr>\n",
              "    <tr>\n",
              "      <th>6</th>\n",
              "      <td>[{'id': 'org.wso2.carbon.identity.framework:or...</td>\n",
              "    </tr>\n",
              "    <tr>\n",
              "      <th>7</th>\n",
              "      <td>[{'id': 'org.wso2.carbon.identity.framework:or...</td>\n",
              "    </tr>\n",
              "    <tr>\n",
              "      <th>8</th>\n",
              "      <td>[{'id': 'org.wso2.carbon.identity.framework:or...</td>\n",
              "    </tr>\n",
              "    <tr>\n",
              "      <th>9</th>\n",
              "      <td>[{'id': 'org.wso2.carbon.identity.framework:or...</td>\n",
              "    </tr>\n",
              "    <tr>\n",
              "      <th>10</th>\n",
              "      <td>[{'id': 'org.wso2.carbon.identity.framework:or...</td>\n",
              "    </tr>\n",
              "    <tr>\n",
              "      <th>11</th>\n",
              "      <td>[{'id': 'org.wso2.carbon.identity.framework:or...</td>\n",
              "    </tr>\n",
              "    <tr>\n",
              "      <th>12</th>\n",
              "      <td>[{'id': 'org.wso2.carbon.identity.framework:or...</td>\n",
              "    </tr>\n",
              "    <tr>\n",
              "      <th>13</th>\n",
              "      <td>[{'id': 'org.wso2.carbon.identity.framework:or...</td>\n",
              "    </tr>\n",
              "    <tr>\n",
              "      <th>14</th>\n",
              "      <td>[{'id': 'org.wso2.carbon.identity.framework:or...</td>\n",
              "    </tr>\n",
              "    <tr>\n",
              "      <th>15</th>\n",
              "      <td>[{'id': 'org.wso2.carbon.identity.framework:or...</td>\n",
              "    </tr>\n",
              "    <tr>\n",
              "      <th>16</th>\n",
              "      <td>[{'id': 'org.wso2.carbon.identity.framework:or...</td>\n",
              "    </tr>\n",
              "    <tr>\n",
              "      <th>17</th>\n",
              "      <td>[{'id': 'org.wso2.carbon.identity.framework:or...</td>\n",
              "    </tr>\n",
              "    <tr>\n",
              "      <th>18</th>\n",
              "      <td>[{'id': 'org.wso2.carbon.identity.framework:or...</td>\n",
              "    </tr>\n",
              "    <tr>\n",
              "      <th>19</th>\n",
              "      <td>[{'id': 'org.wso2.carbon.identity.framework:or...</td>\n",
              "    </tr>\n",
              "  </tbody>\n",
              "</table>\n",
              "</div>"
            ],
            "text/plain": [
              "                                                    p\n",
              "0   [{'id': 'org.wso2.carbon.identity.framework:or...\n",
              "1   [{'id': 'org.wso2.carbon.identity.framework:or...\n",
              "2   [{'id': 'org.wso2.carbon.identity.framework:or...\n",
              "3   [{'id': 'org.wso2.carbon.identity.framework:or...\n",
              "4   [{'id': 'org.wso2.carbon.identity.framework:or...\n",
              "5   [{'id': 'org.wso2.carbon.identity.framework:or...\n",
              "6   [{'id': 'org.wso2.carbon.identity.framework:or...\n",
              "7   [{'id': 'org.wso2.carbon.identity.framework:or...\n",
              "8   [{'id': 'org.wso2.carbon.identity.framework:or...\n",
              "9   [{'id': 'org.wso2.carbon.identity.framework:or...\n",
              "10  [{'id': 'org.wso2.carbon.identity.framework:or...\n",
              "11  [{'id': 'org.wso2.carbon.identity.framework:or...\n",
              "12  [{'id': 'org.wso2.carbon.identity.framework:or...\n",
              "13  [{'id': 'org.wso2.carbon.identity.framework:or...\n",
              "14  [{'id': 'org.wso2.carbon.identity.framework:or...\n",
              "15  [{'id': 'org.wso2.carbon.identity.framework:or...\n",
              "16  [{'id': 'org.wso2.carbon.identity.framework:or...\n",
              "17  [{'id': 'org.wso2.carbon.identity.framework:or...\n",
              "18  [{'id': 'org.wso2.carbon.identity.framework:or...\n",
              "19  [{'id': 'org.wso2.carbon.identity.framework:or..."
            ]
          },
          "execution_count": 17,
          "metadata": {},
          "output_type": "execute_result"
        }
      ],
      "source": [
        "# query Cypher\n",
        "query = \"\"\"\n",
        "MATCH p=()-[r:dependency]->() RETURN p LIMIT 25\n",
        "\"\"\"\n",
        "\n",
        "result_df = run_query_data_graph(query)\n",
        "result_df.head(20)"
      ]
    },
    {
      "cell_type": "markdown",
      "id": "dfc5c882-f0e1-484d-aefb-bdfd2b0bfb1d",
      "metadata": {
        "id": "dfc5c882-f0e1-484d-aefb-bdfd2b0bfb1d"
      },
      "source": [
        "# REST API example"
      ]
    },
    {
      "cell_type": "code",
      "execution_count": null,
      "id": "76b19b0b-e3b2-4eb2-9d03-926b8a3ed983",
      "metadata": {
        "id": "76b19b0b-e3b2-4eb2-9d03-926b8a3ed983",
        "outputId": "6e58d0b6-8d10-4730-d70a-8203bfeea71b"
      },
      "outputs": [
        {
          "name": "stdout",
          "output_type": "stream",
          "text": [
            "['CVE', 'CVE_AGGREGATED', 'FRESHNESS', 'FRESHNESS_AGGREGATED', 'POPULARITY_1_YEAR', 'POPULARITY_1_YEAR_AGGREGATED', 'SPEED']\n"
          ]
        }
      ],
      "source": [
        "import requests\n",
        "\n",
        "# URL endpoint\n",
        "url_added_values = \"http://<YOUR-IP-OR-DOMAIN>:8081/addedValues\"\n",
        "\n",
        "response = requests.get(url_added_values)\n",
        "\n",
        "if response.status_code == 200:\n",
        "    added_values = response.json()\n",
        "    print(added_values)\n"
      ]
    },
    {
      "cell_type": "markdown",
      "id": "1354a7f3-1f73-4963-97a3-ae47a2edf544",
      "metadata": {
        "id": "1354a7f3-1f73-4963-97a3-ae47a2edf544"
      },
      "source": [
        "## Ecosystem Analysis"
      ]
    },
    {
      "cell_type": "code",
      "execution_count": null,
      "id": "420bfc68-78e7-4b15-9353-8db75748b499",
      "metadata": {
        "id": "420bfc68-78e7-4b15-9353-8db75748b499",
        "outputId": "2795c6a9-1444-4915-c2cc-a0e55f4af616"
      },
      "outputs": [
        {
          "data": {
            "text/html": [
              "<div>\n",
              "<style scoped>\n",
              "    .dataframe tbody tr th:only-of-type {\n",
              "        vertical-align: middle;\n",
              "    }\n",
              "\n",
              "    .dataframe tbody tr th {\n",
              "        vertical-align: top;\n",
              "    }\n",
              "\n",
              "    .dataframe thead th {\n",
              "        text-align: right;\n",
              "    }\n",
              "</style>\n",
              "<table border=\"1\" class=\"dataframe\">\n",
              "  <thead>\n",
              "    <tr style=\"text-align: right;\">\n",
              "      <th></th>\n",
              "      <th>r</th>\n",
              "    </tr>\n",
              "  </thead>\n",
              "  <tbody>\n",
              "    <tr>\n",
              "      <th>0</th>\n",
              "      <td>{'id': 'org.wso2.carbon.identity.framework:org...</td>\n",
              "    </tr>\n",
              "    <tr>\n",
              "      <th>1</th>\n",
              "      <td>{'id': 'org.apache.camel.quarkus:camel-quarkus...</td>\n",
              "    </tr>\n",
              "    <tr>\n",
              "      <th>2</th>\n",
              "      <td>{'id': 'org.apache.camel.quarkus:camel-quarkus...</td>\n",
              "    </tr>\n",
              "    <tr>\n",
              "      <th>3</th>\n",
              "      <td>{'id': 'org.wso2.carbon.identity.framework:org...</td>\n",
              "    </tr>\n",
              "    <tr>\n",
              "      <th>4</th>\n",
              "      <td>{'id': 'org.wso2.carbon.identity.framework:org...</td>\n",
              "    </tr>\n",
              "    <tr>\n",
              "      <th>5</th>\n",
              "      <td>{'id': 'org.wso2.carbon.identity.framework:org...</td>\n",
              "    </tr>\n",
              "    <tr>\n",
              "      <th>6</th>\n",
              "      <td>{'id': 'org.apache.camel.quarkus:camel-quarkus...</td>\n",
              "    </tr>\n",
              "    <tr>\n",
              "      <th>7</th>\n",
              "      <td>{'id': 'org.apache.camel.quarkus:camel-quarkus...</td>\n",
              "    </tr>\n",
              "    <tr>\n",
              "      <th>8</th>\n",
              "      <td>{'id': 'org.wso2.carbon.identity.framework:org...</td>\n",
              "    </tr>\n",
              "    <tr>\n",
              "      <th>9</th>\n",
              "      <td>{'id': 'com.splendo.kaluga:alerts-androidlib:0...</td>\n",
              "    </tr>\n",
              "  </tbody>\n",
              "</table>\n",
              "</div>"
            ],
            "text/plain": [
              "                                                   r\n",
              "0  {'id': 'org.wso2.carbon.identity.framework:org...\n",
              "1  {'id': 'org.apache.camel.quarkus:camel-quarkus...\n",
              "2  {'id': 'org.apache.camel.quarkus:camel-quarkus...\n",
              "3  {'id': 'org.wso2.carbon.identity.framework:org...\n",
              "4  {'id': 'org.wso2.carbon.identity.framework:org...\n",
              "5  {'id': 'org.wso2.carbon.identity.framework:org...\n",
              "6  {'id': 'org.apache.camel.quarkus:camel-quarkus...\n",
              "7  {'id': 'org.apache.camel.quarkus:camel-quarkus...\n",
              "8  {'id': 'org.wso2.carbon.identity.framework:org...\n",
              "9  {'id': 'com.splendo.kaluga:alerts-androidlib:0..."
            ]
          },
          "execution_count": 19,
          "metadata": {},
          "output_type": "execute_result"
        }
      ],
      "source": [
        "\n",
        "query = \"\"\"\n",
        "MATCH (r:Release)\n",
        "RETURN r\n",
        "LIMIT 1000\n",
        "\"\"\"\n",
        "\n",
        "result_df = run_query_data(query)\n",
        "result_df.head(10)"
      ]
    },
    {
      "cell_type": "code",
      "execution_count": null,
      "id": "09399646-7e5f-4bc1-a691-2195b06f39d7",
      "metadata": {
        "id": "09399646-7e5f-4bc1-a691-2195b06f39d7",
        "outputId": "18146128-81a6-462c-a459-8e944aece8a6"
      },
      "outputs": [
        {
          "data": {
            "text/html": [
              "<div>\n",
              "<style scoped>\n",
              "    .dataframe tbody tr th:only-of-type {\n",
              "        vertical-align: middle;\n",
              "    }\n",
              "\n",
              "    .dataframe tbody tr th {\n",
              "        vertical-align: top;\n",
              "    }\n",
              "\n",
              "    .dataframe thead th {\n",
              "        text-align: right;\n",
              "    }\n",
              "</style>\n",
              "<table border=\"1\" class=\"dataframe\">\n",
              "  <thead>\n",
              "    <tr style=\"text-align: right;\">\n",
              "      <th></th>\n",
              "      <th>mostRecentRelease</th>\n",
              "    </tr>\n",
              "  </thead>\n",
              "  <tbody>\n",
              "    <tr>\n",
              "      <th>0</th>\n",
              "      <td>{'id': 'aws.sdk.kotlin:kinesisanalytics-jvm:1....</td>\n",
              "    </tr>\n",
              "    <tr>\n",
              "      <th>1</th>\n",
              "      <td>{'id': 'aws.sdk.kotlin:elasticloadbalancing:1....</td>\n",
              "    </tr>\n",
              "    <tr>\n",
              "      <th>2</th>\n",
              "      <td>{'id': 'com.liferay:com.liferay.portal.securit...</td>\n",
              "    </tr>\n",
              "    <tr>\n",
              "      <th>3</th>\n",
              "      <td>{'id': 'io.quarkus:quarkus-vertx-deployment:3....</td>\n",
              "    </tr>\n",
              "    <tr>\n",
              "      <th>4</th>\n",
              "      <td>{'id': 'io.quarkus:quarkus-bootstrap-gradle-re...</td>\n",
              "    </tr>\n",
              "    <tr>\n",
              "      <th>5</th>\n",
              "      <td>{'id': 'com.walletconnect:foundation:1.18.3', ...</td>\n",
              "    </tr>\n",
              "    <tr>\n",
              "      <th>6</th>\n",
              "      <td>{'id': 'org.glassfish.jersey.examples:https-se...</td>\n",
              "    </tr>\n",
              "    <tr>\n",
              "      <th>7</th>\n",
              "      <td>{'id': 'org.jboss.weld:weld-core-parent:5.1.3....</td>\n",
              "    </tr>\n",
              "    <tr>\n",
              "      <th>8</th>\n",
              "      <td>{'id': 'com.azure:azure-iot-deviceupdate:1.0.2...</td>\n",
              "    </tr>\n",
              "    <tr>\n",
              "      <th>9</th>\n",
              "      <td>{'id': 'software.amazon.awscdk:cloud9-alpha:2....</td>\n",
              "    </tr>\n",
              "  </tbody>\n",
              "</table>\n",
              "</div>"
            ],
            "text/plain": [
              "                                   mostRecentRelease\n",
              "0  {'id': 'aws.sdk.kotlin:kinesisanalytics-jvm:1....\n",
              "1  {'id': 'aws.sdk.kotlin:elasticloadbalancing:1....\n",
              "2  {'id': 'com.liferay:com.liferay.portal.securit...\n",
              "3  {'id': 'io.quarkus:quarkus-vertx-deployment:3....\n",
              "4  {'id': 'io.quarkus:quarkus-bootstrap-gradle-re...\n",
              "5  {'id': 'com.walletconnect:foundation:1.18.3', ...\n",
              "6  {'id': 'org.glassfish.jersey.examples:https-se...\n",
              "7  {'id': 'org.jboss.weld:weld-core-parent:5.1.3....\n",
              "8  {'id': 'com.azure:azure-iot-deviceupdate:1.0.2...\n",
              "9  {'id': 'software.amazon.awscdk:cloud9-alpha:2...."
            ]
          },
          "execution_count": 20,
          "metadata": {},
          "output_type": "execute_result"
        }
      ],
      "source": [
        "\n",
        "query = \"\"\"\n",
        "MATCH (a:Artifact)\n",
        "WITH a LIMIT 100\n",
        "MATCH (a)-[:relationship_AR]->(r:Release)\n",
        "WITH a, r\n",
        "ORDER BY r.timestamp DESC\n",
        "WITH a, COLLECT(r)[0] AS mostRecentRelease\n",
        "RETURN mostRecentRelease\n",
        "\"\"\"\n",
        "\n",
        "result_df = run_query_data(query)\n",
        "result_df.head(10)"
      ]
    },
    {
      "cell_type": "code",
      "execution_count": null,
      "id": "bdc31c01-aa46-442d-b5b5-aa8fcbe43940",
      "metadata": {
        "colab": {
          "referenced_widgets": [
            "4ef27a04632c444aae3451ed77feb116"
          ]
        },
        "id": "bdc31c01-aa46-442d-b5b5-aa8fcbe43940",
        "outputId": "42ccc397-eac1-455d-d87a-7a678df41d6e"
      },
      "outputs": [
        {
          "data": {
            "application/vnd.jupyter.widget-view+json": {
              "model_id": "4ef27a04632c444aae3451ed77feb116",
              "version_major": 2,
              "version_minor": 0
            },
            "text/plain": [
              "GraphWidget(layout=Layout(height='670px', width='100%'))"
            ]
          },
          "metadata": {},
          "output_type": "display_data"
        },
        {
          "data": {
            "text/html": [
              "<div>\n",
              "<style scoped>\n",
              "    .dataframe tbody tr th:only-of-type {\n",
              "        vertical-align: middle;\n",
              "    }\n",
              "\n",
              "    .dataframe tbody tr th {\n",
              "        vertical-align: top;\n",
              "    }\n",
              "\n",
              "    .dataframe thead th {\n",
              "        text-align: right;\n",
              "    }\n",
              "</style>\n",
              "<table border=\"1\" class=\"dataframe\">\n",
              "  <thead>\n",
              "    <tr style=\"text-align: right;\">\n",
              "      <th></th>\n",
              "      <th>p</th>\n",
              "    </tr>\n",
              "  </thead>\n",
              "  <tbody>\n",
              "    <tr>\n",
              "      <th>0</th>\n",
              "      <td>[{'id': 'org.wso2.carbon.identity.framework:or...</td>\n",
              "    </tr>\n",
              "    <tr>\n",
              "      <th>1</th>\n",
              "      <td>[{'id': 'org.wso2.carbon.identity.framework:or...</td>\n",
              "    </tr>\n",
              "    <tr>\n",
              "      <th>2</th>\n",
              "      <td>[{'id': 'org.wso2.carbon.identity.framework:or...</td>\n",
              "    </tr>\n",
              "    <tr>\n",
              "      <th>3</th>\n",
              "      <td>[{'id': 'org.wso2.carbon.identity.framework:or...</td>\n",
              "    </tr>\n",
              "    <tr>\n",
              "      <th>4</th>\n",
              "      <td>[{'id': 'org.wso2.carbon.identity.framework:or...</td>\n",
              "    </tr>\n",
              "    <tr>\n",
              "      <th>5</th>\n",
              "      <td>[{'id': 'org.wso2.carbon.identity.framework:or...</td>\n",
              "    </tr>\n",
              "    <tr>\n",
              "      <th>6</th>\n",
              "      <td>[{'id': 'org.wso2.carbon.identity.framework:or...</td>\n",
              "    </tr>\n",
              "    <tr>\n",
              "      <th>7</th>\n",
              "      <td>[{'id': 'org.wso2.carbon.identity.framework:or...</td>\n",
              "    </tr>\n",
              "    <tr>\n",
              "      <th>8</th>\n",
              "      <td>[{'id': 'org.wso2.carbon.identity.framework:or...</td>\n",
              "    </tr>\n",
              "    <tr>\n",
              "      <th>9</th>\n",
              "      <td>[{'id': 'org.wso2.carbon.identity.framework:or...</td>\n",
              "    </tr>\n",
              "  </tbody>\n",
              "</table>\n",
              "</div>"
            ],
            "text/plain": [
              "                                                   p\n",
              "0  [{'id': 'org.wso2.carbon.identity.framework:or...\n",
              "1  [{'id': 'org.wso2.carbon.identity.framework:or...\n",
              "2  [{'id': 'org.wso2.carbon.identity.framework:or...\n",
              "3  [{'id': 'org.wso2.carbon.identity.framework:or...\n",
              "4  [{'id': 'org.wso2.carbon.identity.framework:or...\n",
              "5  [{'id': 'org.wso2.carbon.identity.framework:or...\n",
              "6  [{'id': 'org.wso2.carbon.identity.framework:or...\n",
              "7  [{'id': 'org.wso2.carbon.identity.framework:or...\n",
              "8  [{'id': 'org.wso2.carbon.identity.framework:or...\n",
              "9  [{'id': 'org.wso2.carbon.identity.framework:or..."
            ]
          },
          "execution_count": 24,
          "metadata": {},
          "output_type": "execute_result"
        }
      ],
      "source": [
        "# Cypher\n",
        "query = \"\"\"\n",
        "MATCH p=()-[r:dependency]->() RETURN p LIMIT 25\n",
        "\"\"\"\n",
        "\n",
        "result_df = run_query_data_graph(query)\n",
        "result_df.head(10)"
      ]
    },
    {
      "cell_type": "code",
      "execution_count": null,
      "id": "5d6e7970-ff33-400d-9333-d9cfa2a5f38f",
      "metadata": {
        "id": "5d6e7970-ff33-400d-9333-d9cfa2a5f38f",
        "outputId": "f419ad00-367f-4466-c7ce-c063550190f1"
      },
      "outputs": [
        {
          "data": {
            "text/html": [
              "<div>\n",
              "<style scoped>\n",
              "    .dataframe tbody tr th:only-of-type {\n",
              "        vertical-align: middle;\n",
              "    }\n",
              "\n",
              "    .dataframe tbody tr th {\n",
              "        vertical-align: top;\n",
              "    }\n",
              "\n",
              "    .dataframe thead th {\n",
              "        text-align: right;\n",
              "    }\n",
              "</style>\n",
              "<table border=\"1\" class=\"dataframe\">\n",
              "  <thead>\n",
              "    <tr style=\"text-align: right;\">\n",
              "      <th></th>\n",
              "      <th>mostRecentRelease</th>\n",
              "    </tr>\n",
              "  </thead>\n",
              "  <tbody>\n",
              "    <tr>\n",
              "      <th>0</th>\n",
              "      <td>{'id': 'br.com.m4rc310:br-com-m4rc310-libs:1.0...</td>\n",
              "    </tr>\n",
              "    <tr>\n",
              "      <th>1</th>\n",
              "      <td>{'id': 'br.com.m4rc310:open:1.0.33', 'version'...</td>\n",
              "    </tr>\n",
              "    <tr>\n",
              "      <th>2</th>\n",
              "      <td>{'id': 'br.com.m4rc310:br-com-m4rc310-gql:1.0....</td>\n",
              "    </tr>\n",
              "    <tr>\n",
              "      <th>3</th>\n",
              "      <td>{'id': 'br.com.m4rc310:br-com-m4rc310-gtim:1.0...</td>\n",
              "    </tr>\n",
              "    <tr>\n",
              "      <th>4</th>\n",
              "      <td>{'id': 'br.com.m4rc310:br-com-m4rc310-weather:...</td>\n",
              "    </tr>\n",
              "    <tr>\n",
              "      <th>5</th>\n",
              "      <td>{'id': 'br.com.m4rc310:br-com-m4rc310-starter:...</td>\n",
              "    </tr>\n",
              "    <tr>\n",
              "      <th>6</th>\n",
              "      <td>{'id': 'cloud.webgen.web.crud.mongodb:SimpleCR...</td>\n",
              "    </tr>\n",
              "    <tr>\n",
              "      <th>7</th>\n",
              "      <td>{'id': 'com.algolia:algoliasearch-client-kotli...</td>\n",
              "    </tr>\n",
              "    <tr>\n",
              "      <th>8</th>\n",
              "      <td>{'id': 'com.algolia:algoliasearch-client-kotli...</td>\n",
              "    </tr>\n",
              "    <tr>\n",
              "      <th>9</th>\n",
              "      <td>{'id': 'com.algolia:algoliasearch-client-kotli...</td>\n",
              "    </tr>\n",
              "  </tbody>\n",
              "</table>\n",
              "</div>"
            ],
            "text/plain": [
              "                                   mostRecentRelease\n",
              "0  {'id': 'br.com.m4rc310:br-com-m4rc310-libs:1.0...\n",
              "1  {'id': 'br.com.m4rc310:open:1.0.33', 'version'...\n",
              "2  {'id': 'br.com.m4rc310:br-com-m4rc310-gql:1.0....\n",
              "3  {'id': 'br.com.m4rc310:br-com-m4rc310-gtim:1.0...\n",
              "4  {'id': 'br.com.m4rc310:br-com-m4rc310-weather:...\n",
              "5  {'id': 'br.com.m4rc310:br-com-m4rc310-starter:...\n",
              "6  {'id': 'cloud.webgen.web.crud.mongodb:SimpleCR...\n",
              "7  {'id': 'com.algolia:algoliasearch-client-kotli...\n",
              "8  {'id': 'com.algolia:algoliasearch-client-kotli...\n",
              "9  {'id': 'com.algolia:algoliasearch-client-kotli..."
            ]
          },
          "execution_count": 25,
          "metadata": {},
          "output_type": "execute_result"
        }
      ],
      "source": [
        "# Cypher\n",
        "\n",
        "query = \"\"\"\n",
        "MATCH (a:Artifact)\n",
        "WITH a\n",
        "MATCH (a)-[:relationship_AR]->(r:Release)\n",
        "WITH a, r\n",
        "ORDER BY r.timestamp DESC\n",
        "WITH a, COLLECT(r)[0] AS mostRecentRelease\n",
        "RETURN mostRecentRelease\n",
        "LIMIT 10\n",
        "\"\"\"\n",
        "\n",
        "result_df = run_query_data(query)\n",
        "result_df.head(10)"
      ]
    },
    {
      "cell_type": "code",
      "execution_count": null,
      "id": "065f7637-2542-4987-87f9-9e9faa148ca0",
      "metadata": {
        "id": "065f7637-2542-4987-87f9-9e9faa148ca0",
        "outputId": "94b48485-000f-4c30-8a16-4daccf60d679"
      },
      "outputs": [
        {
          "data": {
            "text/html": [
              "<div>\n",
              "<style scoped>\n",
              "    .dataframe tbody tr th:only-of-type {\n",
              "        vertical-align: middle;\n",
              "    }\n",
              "\n",
              "    .dataframe tbody tr th {\n",
              "        vertical-align: top;\n",
              "    }\n",
              "\n",
              "    .dataframe thead th {\n",
              "        text-align: right;\n",
              "    }\n",
              "</style>\n",
              "<table border=\"1\" class=\"dataframe\">\n",
              "  <thead>\n",
              "    <tr style=\"text-align: right;\">\n",
              "      <th></th>\n",
              "      <th>a.name</th>\n",
              "      <th>r.timestamp</th>\n",
              "    </tr>\n",
              "  </thead>\n",
              "  <tbody>\n",
              "    <tr>\n",
              "      <th>0</th>\n",
              "      <td>None</td>\n",
              "      <td>1724985046000</td>\n",
              "    </tr>\n",
              "    <tr>\n",
              "      <th>1</th>\n",
              "      <td>None</td>\n",
              "      <td>1724985045000</td>\n",
              "    </tr>\n",
              "    <tr>\n",
              "      <th>2</th>\n",
              "      <td>None</td>\n",
              "      <td>1724985045000</td>\n",
              "    </tr>\n",
              "    <tr>\n",
              "      <th>3</th>\n",
              "      <td>None</td>\n",
              "      <td>1724985045000</td>\n",
              "    </tr>\n",
              "    <tr>\n",
              "      <th>4</th>\n",
              "      <td>None</td>\n",
              "      <td>1724985044000</td>\n",
              "    </tr>\n",
              "    <tr>\n",
              "      <th>5</th>\n",
              "      <td>None</td>\n",
              "      <td>1724985043000</td>\n",
              "    </tr>\n",
              "    <tr>\n",
              "      <th>6</th>\n",
              "      <td>None</td>\n",
              "      <td>1724979155000</td>\n",
              "    </tr>\n",
              "    <tr>\n",
              "      <th>7</th>\n",
              "      <td>None</td>\n",
              "      <td>1724973231000</td>\n",
              "    </tr>\n",
              "    <tr>\n",
              "      <th>8</th>\n",
              "      <td>None</td>\n",
              "      <td>1724973222000</td>\n",
              "    </tr>\n",
              "    <tr>\n",
              "      <th>9</th>\n",
              "      <td>None</td>\n",
              "      <td>1724973192000</td>\n",
              "    </tr>\n",
              "  </tbody>\n",
              "</table>\n",
              "</div>"
            ],
            "text/plain": [
              "  a.name    r.timestamp\n",
              "0   None  1724985046000\n",
              "1   None  1724985045000\n",
              "2   None  1724985045000\n",
              "3   None  1724985045000\n",
              "4   None  1724985044000\n",
              "5   None  1724985043000\n",
              "6   None  1724979155000\n",
              "7   None  1724973231000\n",
              "8   None  1724973222000\n",
              "9   None  1724973192000"
            ]
          },
          "execution_count": 28,
          "metadata": {},
          "output_type": "execute_result"
        }
      ],
      "source": [
        "# Cypher\n",
        "query = \"\"\"\n",
        "MATCH (a:Artifact)-[:relationship_AR]->(r:Release)\n",
        "RETURN a.name, r.timestamp\n",
        "ORDER BY r.timestamp DESC\n",
        "LIMIT 10\n",
        "\n",
        "\"\"\"\n",
        "\n",
        "result_df = run_query_data(query)\n",
        "result_df.head(10)"
      ]
    },
    {
      "cell_type": "code",
      "execution_count": null,
      "id": "32d05611-b16b-442d-9474-498ee089a960",
      "metadata": {
        "id": "32d05611-b16b-442d-9474-498ee089a960",
        "outputId": "009c6cd5-05e1-4269-e833-4b84853f4b34"
      },
      "outputs": [
        {
          "data": {
            "text/html": [
              "<div>\n",
              "<style scoped>\n",
              "    .dataframe tbody tr th:only-of-type {\n",
              "        vertical-align: middle;\n",
              "    }\n",
              "\n",
              "    .dataframe tbody tr th {\n",
              "        vertical-align: top;\n",
              "    }\n",
              "\n",
              "    .dataframe thead th {\n",
              "        text-align: right;\n",
              "    }\n",
              "</style>\n",
              "<table border=\"1\" class=\"dataframe\">\n",
              "  <thead>\n",
              "    <tr style=\"text-align: right;\">\n",
              "      <th></th>\n",
              "      <th>a.name</th>\n",
              "      <th>r.timestamp</th>\n",
              "    </tr>\n",
              "  </thead>\n",
              "  <tbody>\n",
              "    <tr>\n",
              "      <th>0</th>\n",
              "      <td>None</td>\n",
              "      <td>1724985046000</td>\n",
              "    </tr>\n",
              "    <tr>\n",
              "      <th>1</th>\n",
              "      <td>None</td>\n",
              "      <td>1724985045000</td>\n",
              "    </tr>\n",
              "    <tr>\n",
              "      <th>2</th>\n",
              "      <td>None</td>\n",
              "      <td>1724985045000</td>\n",
              "    </tr>\n",
              "    <tr>\n",
              "      <th>3</th>\n",
              "      <td>None</td>\n",
              "      <td>1724985045000</td>\n",
              "    </tr>\n",
              "    <tr>\n",
              "      <th>4</th>\n",
              "      <td>None</td>\n",
              "      <td>1724985044000</td>\n",
              "    </tr>\n",
              "    <tr>\n",
              "      <th>5</th>\n",
              "      <td>None</td>\n",
              "      <td>1724985043000</td>\n",
              "    </tr>\n",
              "    <tr>\n",
              "      <th>6</th>\n",
              "      <td>None</td>\n",
              "      <td>1724979155000</td>\n",
              "    </tr>\n",
              "    <tr>\n",
              "      <th>7</th>\n",
              "      <td>None</td>\n",
              "      <td>1724973231000</td>\n",
              "    </tr>\n",
              "    <tr>\n",
              "      <th>8</th>\n",
              "      <td>None</td>\n",
              "      <td>1724973222000</td>\n",
              "    </tr>\n",
              "    <tr>\n",
              "      <th>9</th>\n",
              "      <td>None</td>\n",
              "      <td>1724973192000</td>\n",
              "    </tr>\n",
              "  </tbody>\n",
              "</table>\n",
              "</div>"
            ],
            "text/plain": [
              "  a.name    r.timestamp\n",
              "0   None  1724985046000\n",
              "1   None  1724985045000\n",
              "2   None  1724985045000\n",
              "3   None  1724985045000\n",
              "4   None  1724985044000\n",
              "5   None  1724985043000\n",
              "6   None  1724979155000\n",
              "7   None  1724973231000\n",
              "8   None  1724973222000\n",
              "9   None  1724973192000"
            ]
          },
          "execution_count": 29,
          "metadata": {},
          "output_type": "execute_result"
        }
      ],
      "source": [
        "# Cypher\n",
        "query = \"\"\"\n",
        "MATCH (a:Artifact)-[:relationship_AR]->(r:Release)\n",
        "RETURN a.name, r.timestamp\n",
        "ORDER BY r.timestamp DESC\n",
        "LIMIT 10\n",
        "\"\"\"\n",
        "\n",
        "result_df = run_query_data(query)\n",
        "result_df.head(10)"
      ]
    },
    {
      "cell_type": "code",
      "execution_count": null,
      "id": "741d75a2-df8b-4078-b7fa-9b3ea40279de",
      "metadata": {
        "colab": {
          "referenced_widgets": [
            "b28a4bbbfea04278a5bcd724b740b1db"
          ]
        },
        "id": "741d75a2-df8b-4078-b7fa-9b3ea40279de",
        "outputId": "1d6d8de2-bb14-4965-d1de-9219abcdbadb"
      },
      "outputs": [
        {
          "data": {
            "application/vnd.jupyter.widget-view+json": {
              "model_id": "b28a4bbbfea04278a5bcd724b740b1db",
              "version_major": 2,
              "version_minor": 0
            },
            "text/plain": [
              "GraphWidget(layout=Layout(height='500px', width='100%'))"
            ]
          },
          "metadata": {},
          "output_type": "display_data"
        },
        {
          "data": {
            "text/html": [
              "<div>\n",
              "<style scoped>\n",
              "    .dataframe tbody tr th:only-of-type {\n",
              "        vertical-align: middle;\n",
              "    }\n",
              "\n",
              "    .dataframe tbody tr th {\n",
              "        vertical-align: top;\n",
              "    }\n",
              "\n",
              "    .dataframe thead th {\n",
              "        text-align: right;\n",
              "    }\n",
              "</style>\n",
              "<table border=\"1\" class=\"dataframe\">\n",
              "  <thead>\n",
              "    <tr style=\"text-align: right;\">\n",
              "      <th></th>\n",
              "      <th>r.scope</th>\n",
              "      <th>COUNT(r)</th>\n",
              "    </tr>\n",
              "  </thead>\n",
              "  <tbody>\n",
              "    <tr>\n",
              "      <th>0</th>\n",
              "      <td>compile</td>\n",
              "      <td>100373</td>\n",
              "    </tr>\n",
              "    <tr>\n",
              "      <th>1</th>\n",
              "      <td>test</td>\n",
              "      <td>344</td>\n",
              "    </tr>\n",
              "    <tr>\n",
              "      <th>2</th>\n",
              "      <td>provided</td>\n",
              "      <td>7378</td>\n",
              "    </tr>\n",
              "    <tr>\n",
              "      <th>3</th>\n",
              "      <td>runtime</td>\n",
              "      <td>209</td>\n",
              "    </tr>\n",
              "  </tbody>\n",
              "</table>\n",
              "</div>"
            ],
            "text/plain": [
              "    r.scope  COUNT(r)\n",
              "0   compile    100373\n",
              "1      test       344\n",
              "2  provided      7378\n",
              "3   runtime       209"
            ]
          },
          "execution_count": 31,
          "metadata": {},
          "output_type": "execute_result"
        }
      ],
      "source": [
        "query = \"\"\"\n",
        "MATCH ()-[r:dependency]->(a:Artifact {id: \"org.ops4j.pax.logging:pax-logging-api\"})\n",
        "WHERE r.scope IN [\"compile\", \"provided\", \"runtime\", \"system\", \"test\"]\n",
        "RETURN r.scope, COUNT(r)\n",
        "\"\"\"\n",
        "result_df = run_query_data_graph(query)\n",
        "result_df.head(10)"
      ]
    }
  ],
  "metadata": {
    "kernelspec": {
      "display_name": "Python 3 (ipykernel)",
      "language": "python",
      "name": "python3"
    },
    "language_info": {
      "codemirror_mode": {
        "name": "ipython",
        "version": 3
      },
      "file_extension": ".py",
      "mimetype": "text/x-python",
      "name": "python",
      "nbconvert_exporter": "python",
      "pygments_lexer": "ipython3",
      "version": "3.9.2"
    },
    "colab": {
      "provenance": []
    }
  },
  "nbformat": 4,
  "nbformat_minor": 5
}
