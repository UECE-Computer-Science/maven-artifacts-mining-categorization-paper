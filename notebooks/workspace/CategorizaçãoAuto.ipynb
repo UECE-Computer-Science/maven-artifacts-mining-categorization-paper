{
 "cells": [
  {
   "cell_type": "code",
   "execution_count": 13,
   "id": "8473632f-fc81-40a1-910b-8204e16e754b",
   "metadata": {},
   "outputs": [
    {
     "name": "stdout",
     "output_type": "stream",
     "text": [
      "Arquivo gerado com sucesso: categorized_artifacts.csv\n"
     ]
    }
   ],
   "source": [
    "import pandas as pd\n",
    "\n",
    "# Caminhos dos arquivos\n",
    "input_csv = 'TAGS_noCategorizeds.csv'  # Nome do CSV com os dados de entrada\n",
    "categories_txt = 'Categorias para TAGs.txt'  # Nome do arquivo TXT com as categorias\n",
    "output_csv = 'categorized_artifacts.csv'  # Nome do arquivo de saída\n",
    "\n",
    "# Função para carregar categorias do arquivo TXT\n",
    "def load_categories(txt_file):\n",
    "    with open(txt_file, 'r', encoding='utf-8') as file:\n",
    "        lines = file.readlines()\n",
    "    \n",
    "    category_mapping = {}\n",
    "    current_category = None\n",
    "    \n",
    "    for line in lines:\n",
    "        line = line.strip()\n",
    "        if line.endswith(':'):\n",
    "            current_category = line[:-1]  # Define a categoria atual\n",
    "        elif line.startswith('#') and current_category:\n",
    "            tag = line.strip()\n",
    "            category_mapping[tag] = current_category  # Mapeia a tag para a categoria atual\n",
    "    \n",
    "    return category_mapping\n",
    "\n",
    "# Carrega o mapeamento de categorias\n",
    "category_mapping = load_categories(categories_txt)\n",
    "\n",
    "# Carrega o CSV de entrada\n",
    "data = pd.read_csv(input_csv)\n",
    "\n",
    "# Função para mapear múltiplas tags para categorias\n",
    "def map_tags_to_categories(tags):\n",
    "    categories = []\n",
    "    for tag in tags:\n",
    "        if tag in category_mapping:\n",
    "            categories.append(category_mapping[tag])\n",
    "    return categories\n",
    "\n",
    "# Converte a coluna TAG (que pode ter múltiplas tags) em categorias\n",
    "data['CategoryList'] = data['TAG'].apply(lambda x: map_tags_to_categories(eval(x)))\n",
    "\n",
    "# Explode a lista de categorias para facilitar o agrupamento\n",
    "data = data.explode('CategoryList')\n",
    "\n",
    "# Renomeia a coluna para algo mais claro\n",
    "data = data.rename(columns={'CategoryList': 'Category'})\n",
    "\n",
    "# Agrupa os dados por artefato não categorizado e determina a categoria predominante\n",
    "grouped = data.groupby('ArtifactID')\n",
    "\n",
    "# Cria uma lista para armazenar os resultados\n",
    "results = []\n",
    "\n",
    "for artifact, group in grouped:\n",
    "    if not group['Category'].empty:\n",
    "        mode_value = group['Category'].mode()\n",
    "        if not mode_value.empty:\n",
    "            results.append({'ArtifactID': artifact, 'Categoria': mode_value[0]})\n",
    "\n",
    "# Converte os resultados para um DataFrame\n",
    "result_df = pd.DataFrame(results)\n",
    "\n",
    "# Salva o resultado em um novo arquivo CSV\n",
    "result_df.to_csv(output_csv, index=False)\n",
    "print(f\"Arquivo gerado com sucesso: {output_csv}\")\n"
   ]
  },
  {
   "cell_type": "code",
   "execution_count": null,
   "id": "e679ef11-cc4d-4033-9b12-e63df8a81e4d",
   "metadata": {},
   "outputs": [],
   "source": []
  }
 ],
 "metadata": {
  "kernelspec": {
   "display_name": "Python 3 (ipykernel)",
   "language": "python",
   "name": "python3"
  },
  "language_info": {
   "codemirror_mode": {
    "name": "ipython",
    "version": 3
   },
   "file_extension": ".py",
   "mimetype": "text/x-python",
   "name": "python",
   "nbconvert_exporter": "python",
   "pygments_lexer": "ipython3",
   "version": "3.9.2"
  }
 },
 "nbformat": 4,
 "nbformat_minor": 5
}
